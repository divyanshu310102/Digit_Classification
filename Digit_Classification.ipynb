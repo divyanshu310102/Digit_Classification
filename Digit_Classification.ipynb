{
  "nbformat": 4,
  "nbformat_minor": 0,
  "metadata": {
    "colab": {
      "provenance": []
    },
    "kernelspec": {
      "name": "python3",
      "display_name": "Python 3"
    },
    "language_info": {
      "name": "python"
    }
  },
  "cells": [
    {
      "cell_type": "markdown",
      "source": [
        "#Digit Classification Using Machine Learning\n",
        "Digit classification is a common introductory task in machine learning and computer vision. In this task, the goal is to classify images of handwritten digits (0-9) into their respective categories.\n",
        "\n"
      ],
      "metadata": {
        "id": "qgSBmyMOwFYE"
      }
    },
    {
      "cell_type": "markdown",
      "source": [
        "#1. Importing the required libraries\n",
        "The below given code is used to import the required libraries that are being used during the entire project."
      ],
      "metadata": {
        "id": "Z4sIOkUDwDNK"
      }
    },
    {
      "cell_type": "code",
      "source": [
        "import numpy as np\n",
        "import pandas as pd\n",
        "%matplotlib inline\n",
        "import matplotlib.pyplot as plt\n",
        "import matplotlib as mlp\n",
        "import tensorflow as tf\n",
        "from tensorflow import keras"
      ],
      "metadata": {
        "id": "ZSVB89lMJ0gB"
      },
      "execution_count": null,
      "outputs": []
    },
    {
      "cell_type": "markdown",
      "source": [
        "#2. Dataset\n",
        "The MNIST dataset is a popular dataset for digit classification. It consists of a large number of 28x28 grayscale images of handwritten digits (0 through 9). Each image is labeled with the corresponding digit it represents, making it a suitable dataset for training and evaluating machine learning models for digit recognition tasks.\n",
        "You can access the MNIST dataset using various machine learning libraries in Python, such as scikit-learn, TensorFlow, or PyTorch. Here's how to load the MNIST dataset using keras in tensorflow:"
      ],
      "metadata": {
        "id": "a_fFW-sZy9es"
      }
    },
    {
      "cell_type": "code",
      "source": [
        "digit_mnist = keras.datasets.mnist"
      ],
      "metadata": {
        "id": "0WWiOL3KKWKU"
      },
      "execution_count": null,
      "outputs": []
    },
    {
      "cell_type": "markdown",
      "source": [
        "#3. Train-Test Splitting of The Dataset\n",
        "After loading the dataset, train and test data are splitted from the dataset."
      ],
      "metadata": {
        "id": "cdX0F18U0vdv"
      }
    },
    {
      "cell_type": "code",
      "source": [
        "(X_train_full, y_train_full), (X_test, y_test) = digit_mnist.load_data()"
      ],
      "metadata": {
        "id": "x2xGbMnAKcq8"
      },
      "execution_count": null,
      "outputs": []
    },
    {
      "cell_type": "code",
      "source": [
        "plt.imshow(X_train_full[0]) ## It shows the first picture of the dataset in training data"
      ],
      "metadata": {
        "colab": {
          "base_uri": "https://localhost:8080/",
          "height": 448
        },
        "id": "KxJ-pYWXKyFD",
        "outputId": "d0efad30-4e30-41b2-f4e2-be4a72c58e48"
      },
      "execution_count": null,
      "outputs": [
        {
          "output_type": "execute_result",
          "data": {
            "text/plain": [
              "<matplotlib.image.AxesImage at 0x7d7099757cd0>"
            ]
          },
          "metadata": {},
          "execution_count": 14
        },
        {
          "output_type": "display_data",
          "data": {
            "text/plain": [
              "<Figure size 640x480 with 1 Axes>"
            ],
            "image/png": "[encoded data removed]"
          },
          "metadata": {}
        }
      ]
    },
    {
      "cell_type": "code",
      "source": [
        "y_train_full[0] ##It is used to access the first label of the training dataset"
      ],
      "metadata": {
        "colab": {
          "base_uri": "https://localhost:8080/"
        },
        "id": "1Q2whEHLh8YW",
        "outputId": "d6570a5d-4ef5-414a-98c8-d85408d0c924"
      },
      "execution_count": null,
      "outputs": [
        {
          "output_type": "execute_result",
          "data": {
            "text/plain": [
              "5"
            ]
          },
          "metadata": {},
          "execution_count": 15
        }
      ]
    },
    {
      "cell_type": "code",
      "source": [
        "X_train_full[5]\n"
      ],
      "metadata": {
        "id": "xTTiXA4LiJTf"
      },
      "execution_count": null,
      "outputs": []
    },
    {
      "cell_type": "markdown",
      "source": [
        "#4. Normalisation\n",
        "The normalisation of the dataset both the training and testing data will be done to bring them to same scale i.e. 0 and 1."
      ],
      "metadata": {
        "id": "GmU2PnYD7NdW"
      }
    },
    {
      "cell_type": "code",
      "source": [
        "X_train_n = X_train_full / 255.\n",
        "X_test_n = X_test / 255."
      ],
      "metadata": {
        "id": "Hwg3aRvD3kz0"
      },
      "execution_count": null,
      "outputs": []
    },
    {
      "cell_type": "markdown",
      "source": [
        "#5. Validation dataset\n",
        "Creating a validation set of 6000 images."
      ],
      "metadata": {
        "id": "Tt0og2j07SrM"
      }
    },
    {
      "cell_type": "code",
      "source": [
        "X_valid, X_train = X_train_n[:6000], X_train_n[6000:]\n",
        "y_valid, y_train = y_train_full[:6000], y_train_full[6000:]\n",
        "X_test = X_test_n"
      ],
      "metadata": {
        "id": "c8t7KjVJ3yGn"
      },
      "execution_count": null,
      "outputs": []
    },
    {
      "cell_type": "code",
      "source": [
        "np.random.seed(42)\n",
        "tf.random.set_seed(42)"
      ],
      "metadata": {
        "id": "lhUT3OOo332S"
      },
      "execution_count": null,
      "outputs": []
    },
    {
      "cell_type": "markdown",
      "source": [
        "#6. Model creation\n",
        "The model created in this project is an ANN model that is made up of two dense layers one with 200 neurons and another with 100 neurons.\n",
        "The output layer will consist of 10 neurons as there are 10 classes whose classification is to be done.\n",
        "The activation function used in the output layer is softmax activation function. This function has been used because it is a kind of multiclass classification."
      ],
      "metadata": {
        "id": "ZZTJMvYM71H7"
      }
    },
    {
      "cell_type": "code",
      "source": [
        "model = keras.models.Sequential()\n",
        "model.add(keras.layers.Flatten(input_shape=[28, 28]))\n",
        "model.add(keras.layers.Dense(200, activation=\"relu\"))\n",
        "model.add(keras.layers.Dense(100, activation=\"relu\"))\n",
        "model.add(keras.layers.Dense(10, activation=\"softmax\"))"
      ],
      "metadata": {
        "id": "J5rAv-3-38w3"
      },
      "execution_count": null,
      "outputs": []
    },
    {
      "cell_type": "markdown",
      "source": [
        "#6. Model Compilation\n",
        "The compilation of the model is done with the metrics of accuracy."
      ],
      "metadata": {
        "id": "0ElP2_XI9bky"
      }
    },
    {
      "cell_type": "code",
      "source": [
        "model.compile(loss=\"sparse_categorical_crossentropy\",\n",
        "              optimizer=\"sgd\",\n",
        "              metrics=[\"accuracy\"])"
      ],
      "metadata": {
        "id": "rNWPORxX4CTm"
      },
      "execution_count": null,
      "outputs": []
    },
    {
      "cell_type": "markdown",
      "source": [
        "#7. Training the model\n",
        "The model is trained with 60 epochs i.e. the entire dataset is visited 60 times for training."
      ],
      "metadata": {
        "id": "q1uvq1Nd901L"
      }
    },
    {
      "cell_type": "code",
      "source": [
        "model_history = model.fit(X_train, y_train, epochs=60,\n",
        "                    validation_data=(X_valid, y_valid))"
      ],
      "metadata": {
        "colab": {
          "base_uri": "https://localhost:8080/"
        },
        "id": "qfN_dVVY4HIy",
        "outputId": "81880bdd-ccd3-4f37-fb2f-611912876f34"
      },
      "execution_count": null,
      "outputs": [
        {
          "output_type": "stream",
          "name": "stdout",
          "text": [
            "Epoch 1/60\n",
            "1688/1688 [==============================] - 10s 5ms/step - loss: 0.6507 - accuracy: 0.8316 - val_loss: 0.3148 - val_accuracy: 0.9122\n",
            "Epoch 2/60\n",
            "1688/1688 [==============================] - 6s 4ms/step - loss: 0.2929 - accuracy: 0.9159 - val_loss: 0.2474 - val_accuracy: 0.9303\n",
            "Epoch 3/60\n",
            "1688/1688 [==============================] - 5s 3ms/step - loss: 0.2388 - accuracy: 0.9315 - val_loss: 0.2113 - val_accuracy: 0.9422\n",
            "Epoch 4/60\n",
            "1688/1688 [==============================] - 8s 5ms/step - loss: 0.2035 - accuracy: 0.9419 - val_loss: 0.1823 - val_accuracy: 0.9500\n",
            "Epoch 5/60\n",
            "1688/1688 [==============================] - 6s 3ms/step - loss: 0.1771 - accuracy: 0.9493 - val_loss: 0.1641 - val_accuracy: 0.9558\n",
            "Epoch 6/60\n",
            "1688/1688 [==============================] - 7s 4ms/step - loss: 0.1566 - accuracy: 0.9560 - val_loss: 0.1489 - val_accuracy: 0.9592\n",
            "Epoch 7/60\n",
            "1688/1688 [==============================] - 5s 3ms/step - loss: 0.1404 - accuracy: 0.9606 - val_loss: 0.1370 - val_accuracy: 0.9650\n",
            "Epoch 8/60\n",
            "1688/1688 [==============================] - 7s 4ms/step - loss: 0.1269 - accuracy: 0.9634 - val_loss: 0.1295 - val_accuracy: 0.9640\n",
            "Epoch 9/60\n",
            "1688/1688 [==============================] - 6s 4ms/step - loss: 0.1156 - accuracy: 0.9670 - val_loss: 0.1205 - val_accuracy: 0.9685\n",
            "Epoch 10/60\n",
            "1688/1688 [==============================] - 6s 4ms/step - loss: 0.1061 - accuracy: 0.9701 - val_loss: 0.1164 - val_accuracy: 0.9673\n",
            "Epoch 11/60\n",
            "1688/1688 [==============================] - 7s 4ms/step - loss: 0.0979 - accuracy: 0.9722 - val_loss: 0.1068 - val_accuracy: 0.9710\n",
            "Epoch 12/60\n",
            "1688/1688 [==============================] - 5s 3ms/step - loss: 0.0906 - accuracy: 0.9742 - val_loss: 0.1044 - val_accuracy: 0.9713\n",
            "Epoch 13/60\n",
            "1688/1688 [==============================] - 8s 5ms/step - loss: 0.0838 - accuracy: 0.9761 - val_loss: 0.0991 - val_accuracy: 0.9712\n",
            "Epoch 14/60\n",
            "1688/1688 [==============================] - 6s 3ms/step - loss: 0.0782 - accuracy: 0.9785 - val_loss: 0.0948 - val_accuracy: 0.9728\n",
            "Epoch 15/60\n",
            "1688/1688 [==============================] - 9s 5ms/step - loss: 0.0731 - accuracy: 0.9791 - val_loss: 0.0927 - val_accuracy: 0.9735\n",
            "Epoch 16/60\n",
            "1688/1688 [==============================] - 6s 3ms/step - loss: 0.0685 - accuracy: 0.9806 - val_loss: 0.0900 - val_accuracy: 0.9732\n",
            "Epoch 17/60\n",
            "1688/1688 [==============================] - 7s 4ms/step - loss: 0.0642 - accuracy: 0.9827 - val_loss: 0.0883 - val_accuracy: 0.9747\n",
            "Epoch 18/60\n",
            "1688/1688 [==============================] - 6s 3ms/step - loss: 0.0600 - accuracy: 0.9833 - val_loss: 0.0863 - val_accuracy: 0.9747\n",
            "Epoch 19/60\n",
            "1688/1688 [==============================] - 6s 3ms/step - loss: 0.0569 - accuracy: 0.9840 - val_loss: 0.0860 - val_accuracy: 0.9743\n",
            "Epoch 20/60\n",
            "1688/1688 [==============================] - 8s 4ms/step - loss: 0.0533 - accuracy: 0.9857 - val_loss: 0.0844 - val_accuracy: 0.9753\n",
            "Epoch 21/60\n",
            "1688/1688 [==============================] - 5s 3ms/step - loss: 0.0504 - accuracy: 0.9865 - val_loss: 0.0826 - val_accuracy: 0.9752\n",
            "Epoch 22/60\n",
            "1688/1688 [==============================] - 7s 4ms/step - loss: 0.0478 - accuracy: 0.9874 - val_loss: 0.0810 - val_accuracy: 0.9768\n",
            "Epoch 23/60\n",
            "1688/1688 [==============================] - 6s 3ms/step - loss: 0.0451 - accuracy: 0.9877 - val_loss: 0.0812 - val_accuracy: 0.9770\n",
            "Epoch 24/60\n",
            "1688/1688 [==============================] - 7s 4ms/step - loss: 0.0425 - accuracy: 0.9889 - val_loss: 0.0798 - val_accuracy: 0.9762\n",
            "Epoch 25/60\n",
            "1688/1688 [==============================] - 6s 3ms/step - loss: 0.0402 - accuracy: 0.9895 - val_loss: 0.0795 - val_accuracy: 0.9775\n",
            "Epoch 26/60\n",
            "1688/1688 [==============================] - 6s 4ms/step - loss: 0.0380 - accuracy: 0.9902 - val_loss: 0.0787 - val_accuracy: 0.9768\n",
            "Epoch 27/60\n",
            "1688/1688 [==============================] - 7s 4ms/step - loss: 0.0360 - accuracy: 0.9908 - val_loss: 0.0772 - val_accuracy: 0.9780\n",
            "Epoch 28/60\n",
            "1688/1688 [==============================] - 6s 3ms/step - loss: 0.0341 - accuracy: 0.9911 - val_loss: 0.0780 - val_accuracy: 0.9765\n",
            "Epoch 29/60\n",
            "1688/1688 [==============================] - 7s 4ms/step - loss: 0.0324 - accuracy: 0.9918 - val_loss: 0.0749 - val_accuracy: 0.9782\n",
            "Epoch 30/60\n",
            "1688/1688 [==============================] - 6s 3ms/step - loss: 0.0306 - accuracy: 0.9928 - val_loss: 0.0756 - val_accuracy: 0.9782\n",
            "Epoch 31/60\n",
            "1688/1688 [==============================] - 7s 4ms/step - loss: 0.0290 - accuracy: 0.9931 - val_loss: 0.0753 - val_accuracy: 0.9787\n",
            "Epoch 32/60\n",
            "1688/1688 [==============================] - 6s 3ms/step - loss: 0.0275 - accuracy: 0.9933 - val_loss: 0.0753 - val_accuracy: 0.9792\n",
            "Epoch 33/60\n",
            "1688/1688 [==============================] - 7s 4ms/step - loss: 0.0260 - accuracy: 0.9940 - val_loss: 0.0758 - val_accuracy: 0.9785\n",
            "Epoch 34/60\n",
            "1688/1688 [==============================] - 6s 4ms/step - loss: 0.0247 - accuracy: 0.9948 - val_loss: 0.0744 - val_accuracy: 0.9800\n",
            "Epoch 35/60\n",
            "1688/1688 [==============================] - 6s 3ms/step - loss: 0.0234 - accuracy: 0.9948 - val_loss: 0.0736 - val_accuracy: 0.9790\n",
            "Epoch 36/60\n",
            "1688/1688 [==============================] - 7s 4ms/step - loss: 0.0223 - accuracy: 0.9955 - val_loss: 0.0806 - val_accuracy: 0.9782\n",
            "Epoch 37/60\n",
            "1688/1688 [==============================] - 6s 3ms/step - loss: 0.0213 - accuracy: 0.9956 - val_loss: 0.0759 - val_accuracy: 0.9793\n",
            "Epoch 38/60\n",
            "1688/1688 [==============================] - 7s 4ms/step - loss: 0.0200 - accuracy: 0.9965 - val_loss: 0.0744 - val_accuracy: 0.9800\n",
            "Epoch 39/60\n",
            "1688/1688 [==============================] - 6s 3ms/step - loss: 0.0191 - accuracy: 0.9965 - val_loss: 0.0756 - val_accuracy: 0.9792\n",
            "Epoch 40/60\n",
            "1688/1688 [==============================] - 7s 4ms/step - loss: 0.0181 - accuracy: 0.9968 - val_loss: 0.0735 - val_accuracy: 0.9800\n",
            "Epoch 41/60\n",
            "1688/1688 [==============================] - 6s 4ms/step - loss: 0.0173 - accuracy: 0.9970 - val_loss: 0.0736 - val_accuracy: 0.9788\n",
            "Epoch 42/60\n",
            "1688/1688 [==============================] - 6s 4ms/step - loss: 0.0165 - accuracy: 0.9972 - val_loss: 0.0750 - val_accuracy: 0.9792\n",
            "Epoch 43/60\n",
            "1688/1688 [==============================] - 7s 4ms/step - loss: 0.0155 - accuracy: 0.9976 - val_loss: 0.0768 - val_accuracy: 0.9803\n",
            "Epoch 44/60\n",
            "1688/1688 [==============================] - 6s 3ms/step - loss: 0.0148 - accuracy: 0.9979 - val_loss: 0.0760 - val_accuracy: 0.9800\n",
            "Epoch 45/60\n",
            "1688/1688 [==============================] - 8s 5ms/step - loss: 0.0142 - accuracy: 0.9980 - val_loss: 0.0743 - val_accuracy: 0.9805\n",
            "Epoch 46/60\n",
            "1688/1688 [==============================] - 6s 3ms/step - loss: 0.0136 - accuracy: 0.9982 - val_loss: 0.0740 - val_accuracy: 0.9802\n",
            "Epoch 47/60\n",
            "1688/1688 [==============================] - 7s 4ms/step - loss: 0.0129 - accuracy: 0.9983 - val_loss: 0.0750 - val_accuracy: 0.9800\n",
            "Epoch 48/60\n",
            "1688/1688 [==============================] - 6s 4ms/step - loss: 0.0123 - accuracy: 0.9985 - val_loss: 0.0755 - val_accuracy: 0.9793\n",
            "Epoch 49/60\n",
            "1688/1688 [==============================] - 7s 4ms/step - loss: 0.0117 - accuracy: 0.9987 - val_loss: 0.0751 - val_accuracy: 0.9803\n",
            "Epoch 50/60\n",
            "1688/1688 [==============================] - 6s 4ms/step - loss: 0.0112 - accuracy: 0.9987 - val_loss: 0.0764 - val_accuracy: 0.9800\n",
            "Epoch 51/60\n",
            "1688/1688 [==============================] - 6s 3ms/step - loss: 0.0108 - accuracy: 0.9989 - val_loss: 0.0749 - val_accuracy: 0.9792\n",
            "Epoch 52/60\n",
            "1688/1688 [==============================] - 7s 4ms/step - loss: 0.0103 - accuracy: 0.9990 - val_loss: 0.0748 - val_accuracy: 0.9798\n",
            "Epoch 53/60\n",
            "1688/1688 [==============================] - 6s 3ms/step - loss: 0.0098 - accuracy: 0.9991 - val_loss: 0.0755 - val_accuracy: 0.9798\n",
            "Epoch 54/60\n",
            "1688/1688 [==============================] - 7s 4ms/step - loss: 0.0094 - accuracy: 0.9991 - val_loss: 0.0752 - val_accuracy: 0.9795\n",
            "Epoch 55/60\n",
            "1688/1688 [==============================] - 6s 3ms/step - loss: 0.0090 - accuracy: 0.9993 - val_loss: 0.0750 - val_accuracy: 0.9798\n",
            "Epoch 56/60\n",
            "1688/1688 [==============================] - 8s 4ms/step - loss: 0.0085 - accuracy: 0.9994 - val_loss: 0.0749 - val_accuracy: 0.9785\n",
            "Epoch 57/60\n",
            "1688/1688 [==============================] - 6s 3ms/step - loss: 0.0082 - accuracy: 0.9993 - val_loss: 0.0765 - val_accuracy: 0.9798\n",
            "Epoch 58/60\n",
            "1688/1688 [==============================] - 6s 4ms/step - loss: 0.0079 - accuracy: 0.9994 - val_loss: 0.0759 - val_accuracy: 0.9808\n",
            "Epoch 59/60\n",
            "1688/1688 [==============================] - 7s 4ms/step - loss: 0.0076 - accuracy: 0.9996 - val_loss: 0.0767 - val_accuracy: 0.9788\n",
            "Epoch 60/60\n",
            "1688/1688 [==============================] - 6s 4ms/step - loss: 0.0073 - accuracy: 0.9996 - val_loss: 0.0774 - val_accuracy: 0.9803\n"
          ]
        }
      ]
    },
    {
      "cell_type": "markdown",
      "source": [],
      "metadata": {
        "id": "Oqwtnjik-Njz"
      }
    },
    {
      "cell_type": "code",
      "source": [
        "\n",
        "\n",
        "pd.DataFrame(model_history.history).plot(figsize=(8, 5))\n",
        "plt.grid(True)\n",
        "plt.gca().set_ylim(0, 1)\n",
        "plt.show()"
      ],
      "metadata": {
        "colab": {
          "base_uri": "https://localhost:8080/",
          "height": 451
        },
        "id": "orYDXmt34LkZ",
        "outputId": "9701bb88-b765-4c33-9ab2-99cfa549a20c"
      },
      "execution_count": null,
      "outputs": [
        {
          "output_type": "display_data",
          "data": {
            "text/plain": [
              "<Figure size 800x500 with 1 Axes>"
            ],
            "image/png": "[encoded data removed]"
          },
          "metadata": {}
        }
      ]
    },
    {
      "cell_type": "code",
      "source": [
        "test_acc = model.evaluate(X_test, y_test)"
      ],
      "metadata": {
        "colab": {
          "base_uri": "https://localhost:8080/"
        },
        "id": "isVGeMdz6FXo",
        "outputId": "2d218ab3-bc41-4c42-c530-1a5e83135b02"
      },
      "execution_count": null,
      "outputs": [
        {
          "output_type": "stream",
          "name": "stdout",
          "text": [
            "313/313 [==============================] - 1s 5ms/step - loss: 0.0713 - accuracy: 0.9795\n"
          ]
        }
      ]
    },
    {
      "cell_type": "code",
      "source": [
        "test_acc"
      ],
      "metadata": {
        "colab": {
          "base_uri": "https://localhost:8080/"
        },
        "id": "L9Onj7V76J9p",
        "outputId": "d9ff97b9-72a9-4483-9e81-0abcfa788097"
      },
      "execution_count": null,
      "outputs": [
        {
          "output_type": "execute_result",
          "data": {
            "text/plain": [
              "[0.07129251956939697, 0.9794999957084656]"
            ]
          },
          "metadata": {},
          "execution_count": 27
        }
      ]
    },
    {
      "cell_type": "code",
      "source": [
        "X_new = X_test[:3]"
      ],
      "metadata": {
        "id": "mvVe7sPJ6No4"
      },
      "execution_count": null,
      "outputs": []
    },
    {
      "cell_type": "code",
      "source": [
        "\n",
        "y_pred = np.argmax(model.predict(X_new), axis=-1)\n",
        "y_pred"
      ],
      "metadata": {
        "colab": {
          "base_uri": "https://localhost:8080/"
        },
        "id": "HHOjYIYC6Qxd",
        "outputId": "d0e58947-7e52-4077-b25f-bf0d6bb1e36b"
      },
      "execution_count": null,
      "outputs": [
        {
          "output_type": "stream",
          "name": "stdout",
          "text": [
            "1/1 [==============================] - 0s 90ms/step\n"
          ]
        },
        {
          "output_type": "execute_result",
          "data": {
            "text/plain": [
              "array([7, 2, 1])"
            ]
          },
          "metadata": {},
          "execution_count": 35
        }
      ]
    },
    {
      "cell_type": "code",
      "source": [
        "print(plt.imshow(X_test[1]))"
      ],
      "metadata": {
        "colab": {
          "base_uri": "https://localhost:8080/",
          "height": 448
        },
        "id": "ezNX7SPs6TVB",
        "outputId": "7160278b-aabb-4cfd-ce8c-5bf2302da993"
      },
      "execution_count": null,
      "outputs": [
        {
          "output_type": "stream",
          "name": "stdout",
          "text": [
            "AxesImage(size=(28, 28))\n"
          ]
        },
        {
          "output_type": "display_data",
          "data": {
            "text/plain": [
              "<Figure size 640x480 with 1 Axes>"
            ],
            "image/png": "[encoded data removed]"
          },
          "metadata": {}
        }
      ]
    }
  ]
}